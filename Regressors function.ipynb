{
 "cells": [
  {
   "cell_type": "code",
   "execution_count": 1,
   "id": "1221d78a",
   "metadata": {},
   "outputs": [],
   "source": [
    "import pandas as pd\n",
    "import numpy as np\n",
    "import seaborn as sns\n",
    "import matplotlib.pyplot as plt"
   ]
  },
  {
   "cell_type": "code",
   "execution_count": 2,
   "id": "e4b76615",
   "metadata": {},
   "outputs": [
    {
     "data": {
      "text/html": [
       "<div>\n",
       "<style scoped>\n",
       "    .dataframe tbody tr th:only-of-type {\n",
       "        vertical-align: middle;\n",
       "    }\n",
       "\n",
       "    .dataframe tbody tr th {\n",
       "        vertical-align: top;\n",
       "    }\n",
       "\n",
       "    .dataframe thead th {\n",
       "        text-align: right;\n",
       "    }\n",
       "</style>\n",
       "<table border=\"1\" class=\"dataframe\">\n",
       "  <thead>\n",
       "    <tr style=\"text-align: right;\">\n",
       "      <th></th>\n",
       "      <th>mpg</th>\n",
       "      <th>cylinders</th>\n",
       "      <th>displacement</th>\n",
       "      <th>horsepower</th>\n",
       "      <th>weight</th>\n",
       "      <th>acceleration</th>\n",
       "      <th>model year</th>\n",
       "      <th>origin</th>\n",
       "      <th>car name</th>\n",
       "    </tr>\n",
       "  </thead>\n",
       "  <tbody>\n",
       "    <tr>\n",
       "      <th>0</th>\n",
       "      <td>18.0</td>\n",
       "      <td>8</td>\n",
       "      <td>307.0</td>\n",
       "      <td>130</td>\n",
       "      <td>3504</td>\n",
       "      <td>12.0</td>\n",
       "      <td>70</td>\n",
       "      <td>1</td>\n",
       "      <td>chevrolet chevelle malibu</td>\n",
       "    </tr>\n",
       "    <tr>\n",
       "      <th>1</th>\n",
       "      <td>15.0</td>\n",
       "      <td>8</td>\n",
       "      <td>350.0</td>\n",
       "      <td>165</td>\n",
       "      <td>3693</td>\n",
       "      <td>11.5</td>\n",
       "      <td>70</td>\n",
       "      <td>1</td>\n",
       "      <td>buick skylark 320</td>\n",
       "    </tr>\n",
       "    <tr>\n",
       "      <th>2</th>\n",
       "      <td>18.0</td>\n",
       "      <td>8</td>\n",
       "      <td>318.0</td>\n",
       "      <td>150</td>\n",
       "      <td>3436</td>\n",
       "      <td>11.0</td>\n",
       "      <td>70</td>\n",
       "      <td>1</td>\n",
       "      <td>plymouth satellite</td>\n",
       "    </tr>\n",
       "    <tr>\n",
       "      <th>3</th>\n",
       "      <td>16.0</td>\n",
       "      <td>8</td>\n",
       "      <td>304.0</td>\n",
       "      <td>150</td>\n",
       "      <td>3433</td>\n",
       "      <td>12.0</td>\n",
       "      <td>70</td>\n",
       "      <td>1</td>\n",
       "      <td>amc rebel sst</td>\n",
       "    </tr>\n",
       "    <tr>\n",
       "      <th>4</th>\n",
       "      <td>17.0</td>\n",
       "      <td>8</td>\n",
       "      <td>302.0</td>\n",
       "      <td>140</td>\n",
       "      <td>3449</td>\n",
       "      <td>10.5</td>\n",
       "      <td>70</td>\n",
       "      <td>1</td>\n",
       "      <td>ford torino</td>\n",
       "    </tr>\n",
       "  </tbody>\n",
       "</table>\n",
       "</div>"
      ],
      "text/plain": [
       "    mpg  cylinders  displacement horsepower  weight  acceleration  model year  \\\n",
       "0  18.0          8         307.0        130    3504          12.0          70   \n",
       "1  15.0          8         350.0        165    3693          11.5          70   \n",
       "2  18.0          8         318.0        150    3436          11.0          70   \n",
       "3  16.0          8         304.0        150    3433          12.0          70   \n",
       "4  17.0          8         302.0        140    3449          10.5          70   \n",
       "\n",
       "   origin                   car name  \n",
       "0       1  chevrolet chevelle malibu  \n",
       "1       1          buick skylark 320  \n",
       "2       1         plymouth satellite  \n",
       "3       1              amc rebel sst  \n",
       "4       1                ford torino  "
      ]
     },
     "execution_count": 2,
     "metadata": {},
     "output_type": "execute_result"
    }
   ],
   "source": [
    "Auto = pd.read_csv('auto-mpg.csv')\n",
    "df=Auto.copy()\n",
    "df.head()"
   ]
  },
  {
   "cell_type": "code",
   "execution_count": 3,
   "id": "7ff085ec",
   "metadata": {},
   "outputs": [
    {
     "name": "stdout",
     "output_type": "stream",
     "text": [
      "(398, 9)\n",
      "<class 'pandas.core.frame.DataFrame'>\n",
      "RangeIndex: 398 entries, 0 to 397\n",
      "Data columns (total 9 columns):\n",
      " #   Column        Non-Null Count  Dtype  \n",
      "---  ------        --------------  -----  \n",
      " 0   mpg           398 non-null    float64\n",
      " 1   cylinders     398 non-null    int64  \n",
      " 2   displacement  398 non-null    float64\n",
      " 3   horsepower    398 non-null    object \n",
      " 4   weight        398 non-null    int64  \n",
      " 5   acceleration  398 non-null    float64\n",
      " 6   model year    398 non-null    int64  \n",
      " 7   origin        398 non-null    int64  \n",
      " 8   car name      398 non-null    object \n",
      "dtypes: float64(3), int64(4), object(2)\n",
      "memory usage: 28.1+ KB\n"
     ]
    }
   ],
   "source": [
    "print(df.shape)\n",
    "df.info()"
   ]
  },
  {
   "cell_type": "markdown",
   "id": "a0a318dd",
   "metadata": {},
   "source": [
    "## Pre-preocessing"
   ]
  },
  {
   "cell_type": "code",
   "execution_count": 4,
   "id": "8e70c190",
   "metadata": {},
   "outputs": [
    {
     "name": "stdout",
     "output_type": "stream",
     "text": [
      "305\n",
      "ford pinto                         6\n",
      "ford maverick                      5\n",
      "toyota corolla                     5\n",
      "amc matador                        5\n",
      "chevrolet chevette                 4\n",
      "                                  ..\n",
      "plymouth satellite custom (sw)     1\n",
      "buick skylark 320                  1\n",
      "buick regal sport coupe (turbo)    1\n",
      "bmw 2002                           1\n",
      "mercedes benz 300d                 1\n",
      "Name: car name, Length: 305, dtype: int64\n"
     ]
    }
   ],
   "source": [
    "print(len(set(df['car name'])))\n",
    "print(df['car name'].value_counts())"
   ]
  },
  {
   "cell_type": "code",
   "execution_count": 5,
   "id": "a94c6782",
   "metadata": {},
   "outputs": [],
   "source": [
    "df=df.drop(['car name'],axis=1)"
   ]
  },
  {
   "cell_type": "code",
   "execution_count": 6,
   "id": "8504aebc",
   "metadata": {},
   "outputs": [
    {
     "data": {
      "text/plain": [
       "mpg             0\n",
       "cylinders       0\n",
       "displacement    0\n",
       "horsepower      0\n",
       "weight          0\n",
       "acceleration    0\n",
       "model year      0\n",
       "origin          0\n",
       "dtype: int64"
      ]
     },
     "execution_count": 6,
     "metadata": {},
     "output_type": "execute_result"
    }
   ],
   "source": [
    "df.isnull().sum(axis = 0)"
   ]
  },
  {
   "cell_type": "code",
   "execution_count": 7,
   "id": "24aca556",
   "metadata": {},
   "outputs": [],
   "source": [
    "df['horsepower']=pd.to_numeric(df['horsepower'], errors='coerce') #convert string to numeric if not possible change to Nan\n",
    "df=df[df['horsepower'].notnull()]"
   ]
  },
  {
   "cell_type": "code",
   "execution_count": 8,
   "id": "f2d5e11e",
   "metadata": {},
   "outputs": [
    {
     "name": "stdout",
     "output_type": "stream",
     "text": [
      "(392, 8)\n"
     ]
    },
    {
     "data": {
      "text/html": [
       "<div>\n",
       "<style scoped>\n",
       "    .dataframe tbody tr th:only-of-type {\n",
       "        vertical-align: middle;\n",
       "    }\n",
       "\n",
       "    .dataframe tbody tr th {\n",
       "        vertical-align: top;\n",
       "    }\n",
       "\n",
       "    .dataframe thead th {\n",
       "        text-align: right;\n",
       "    }\n",
       "</style>\n",
       "<table border=\"1\" class=\"dataframe\">\n",
       "  <thead>\n",
       "    <tr style=\"text-align: right;\">\n",
       "      <th></th>\n",
       "      <th>mpg</th>\n",
       "      <th>cylinders</th>\n",
       "      <th>displacement</th>\n",
       "      <th>horsepower</th>\n",
       "      <th>weight</th>\n",
       "      <th>acceleration</th>\n",
       "      <th>model year</th>\n",
       "      <th>origin</th>\n",
       "    </tr>\n",
       "  </thead>\n",
       "  <tbody>\n",
       "    <tr>\n",
       "      <th>0</th>\n",
       "      <td>18.0</td>\n",
       "      <td>8</td>\n",
       "      <td>307.0</td>\n",
       "      <td>130.0</td>\n",
       "      <td>3504</td>\n",
       "      <td>12.0</td>\n",
       "      <td>70</td>\n",
       "      <td>1</td>\n",
       "    </tr>\n",
       "    <tr>\n",
       "      <th>1</th>\n",
       "      <td>15.0</td>\n",
       "      <td>8</td>\n",
       "      <td>350.0</td>\n",
       "      <td>165.0</td>\n",
       "      <td>3693</td>\n",
       "      <td>11.5</td>\n",
       "      <td>70</td>\n",
       "      <td>1</td>\n",
       "    </tr>\n",
       "    <tr>\n",
       "      <th>2</th>\n",
       "      <td>18.0</td>\n",
       "      <td>8</td>\n",
       "      <td>318.0</td>\n",
       "      <td>150.0</td>\n",
       "      <td>3436</td>\n",
       "      <td>11.0</td>\n",
       "      <td>70</td>\n",
       "      <td>1</td>\n",
       "    </tr>\n",
       "    <tr>\n",
       "      <th>3</th>\n",
       "      <td>16.0</td>\n",
       "      <td>8</td>\n",
       "      <td>304.0</td>\n",
       "      <td>150.0</td>\n",
       "      <td>3433</td>\n",
       "      <td>12.0</td>\n",
       "      <td>70</td>\n",
       "      <td>1</td>\n",
       "    </tr>\n",
       "    <tr>\n",
       "      <th>4</th>\n",
       "      <td>17.0</td>\n",
       "      <td>8</td>\n",
       "      <td>302.0</td>\n",
       "      <td>140.0</td>\n",
       "      <td>3449</td>\n",
       "      <td>10.5</td>\n",
       "      <td>70</td>\n",
       "      <td>1</td>\n",
       "    </tr>\n",
       "  </tbody>\n",
       "</table>\n",
       "</div>"
      ],
      "text/plain": [
       "    mpg  cylinders  displacement  horsepower  weight  acceleration  \\\n",
       "0  18.0          8         307.0       130.0    3504          12.0   \n",
       "1  15.0          8         350.0       165.0    3693          11.5   \n",
       "2  18.0          8         318.0       150.0    3436          11.0   \n",
       "3  16.0          8         304.0       150.0    3433          12.0   \n",
       "4  17.0          8         302.0       140.0    3449          10.5   \n",
       "\n",
       "   model year  origin  \n",
       "0          70       1  \n",
       "1          70       1  \n",
       "2          70       1  \n",
       "3          70       1  \n",
       "4          70       1  "
      ]
     },
     "execution_count": 8,
     "metadata": {},
     "output_type": "execute_result"
    }
   ],
   "source": [
    "print(df.shape)\n",
    "df.head()"
   ]
  },
  {
   "cell_type": "code",
   "execution_count": 9,
   "id": "f5acc17b",
   "metadata": {},
   "outputs": [
    {
     "name": "stdout",
     "output_type": "stream",
     "text": [
      "(392,) (392, 7) ['cylinders', 'displacement', 'horsepower', 'weight', 'acceleration', 'model year', 'origin']\n"
     ]
    }
   ],
   "source": [
    "features=list(df.iloc[:,1:].columns)\n",
    "X=df.iloc[:,1:].values\n",
    "y=df.iloc[:,0].values\n",
    "print(y.shape,X.shape,features)"
   ]
  },
  {
   "cell_type": "code",
   "execution_count": 10,
   "id": "00393d6b",
   "metadata": {},
   "outputs": [
    {
     "data": {
      "text/html": [
       "<div>\n",
       "<style scoped>\n",
       "    .dataframe tbody tr th:only-of-type {\n",
       "        vertical-align: middle;\n",
       "    }\n",
       "\n",
       "    .dataframe tbody tr th {\n",
       "        vertical-align: top;\n",
       "    }\n",
       "\n",
       "    .dataframe thead th {\n",
       "        text-align: right;\n",
       "    }\n",
       "</style>\n",
       "<table border=\"1\" class=\"dataframe\">\n",
       "  <thead>\n",
       "    <tr style=\"text-align: right;\">\n",
       "      <th></th>\n",
       "      <th>mpg</th>\n",
       "      <th>cylinders</th>\n",
       "      <th>displacement</th>\n",
       "      <th>horsepower</th>\n",
       "      <th>weight</th>\n",
       "      <th>acceleration</th>\n",
       "      <th>model year</th>\n",
       "      <th>origin</th>\n",
       "    </tr>\n",
       "  </thead>\n",
       "  <tbody>\n",
       "    <tr>\n",
       "      <th>mpg</th>\n",
       "      <td>1.000000</td>\n",
       "      <td>-0.777618</td>\n",
       "      <td>-0.805127</td>\n",
       "      <td>-0.778427</td>\n",
       "      <td>-0.832244</td>\n",
       "      <td>0.423329</td>\n",
       "      <td>0.580541</td>\n",
       "      <td>0.565209</td>\n",
       "    </tr>\n",
       "    <tr>\n",
       "      <th>cylinders</th>\n",
       "      <td>-0.777618</td>\n",
       "      <td>1.000000</td>\n",
       "      <td>0.950823</td>\n",
       "      <td>0.842983</td>\n",
       "      <td>0.897527</td>\n",
       "      <td>-0.504683</td>\n",
       "      <td>-0.345647</td>\n",
       "      <td>-0.568932</td>\n",
       "    </tr>\n",
       "    <tr>\n",
       "      <th>displacement</th>\n",
       "      <td>-0.805127</td>\n",
       "      <td>0.950823</td>\n",
       "      <td>1.000000</td>\n",
       "      <td>0.897257</td>\n",
       "      <td>0.932994</td>\n",
       "      <td>-0.543800</td>\n",
       "      <td>-0.369855</td>\n",
       "      <td>-0.614535</td>\n",
       "    </tr>\n",
       "    <tr>\n",
       "      <th>horsepower</th>\n",
       "      <td>-0.778427</td>\n",
       "      <td>0.842983</td>\n",
       "      <td>0.897257</td>\n",
       "      <td>1.000000</td>\n",
       "      <td>0.864538</td>\n",
       "      <td>-0.689196</td>\n",
       "      <td>-0.416361</td>\n",
       "      <td>-0.455171</td>\n",
       "    </tr>\n",
       "    <tr>\n",
       "      <th>weight</th>\n",
       "      <td>-0.832244</td>\n",
       "      <td>0.897527</td>\n",
       "      <td>0.932994</td>\n",
       "      <td>0.864538</td>\n",
       "      <td>1.000000</td>\n",
       "      <td>-0.416839</td>\n",
       "      <td>-0.309120</td>\n",
       "      <td>-0.585005</td>\n",
       "    </tr>\n",
       "    <tr>\n",
       "      <th>acceleration</th>\n",
       "      <td>0.423329</td>\n",
       "      <td>-0.504683</td>\n",
       "      <td>-0.543800</td>\n",
       "      <td>-0.689196</td>\n",
       "      <td>-0.416839</td>\n",
       "      <td>1.000000</td>\n",
       "      <td>0.290316</td>\n",
       "      <td>0.212746</td>\n",
       "    </tr>\n",
       "    <tr>\n",
       "      <th>model year</th>\n",
       "      <td>0.580541</td>\n",
       "      <td>-0.345647</td>\n",
       "      <td>-0.369855</td>\n",
       "      <td>-0.416361</td>\n",
       "      <td>-0.309120</td>\n",
       "      <td>0.290316</td>\n",
       "      <td>1.000000</td>\n",
       "      <td>0.181528</td>\n",
       "    </tr>\n",
       "    <tr>\n",
       "      <th>origin</th>\n",
       "      <td>0.565209</td>\n",
       "      <td>-0.568932</td>\n",
       "      <td>-0.614535</td>\n",
       "      <td>-0.455171</td>\n",
       "      <td>-0.585005</td>\n",
       "      <td>0.212746</td>\n",
       "      <td>0.181528</td>\n",
       "      <td>1.000000</td>\n",
       "    </tr>\n",
       "  </tbody>\n",
       "</table>\n",
       "</div>"
      ],
      "text/plain": [
       "                   mpg  cylinders  displacement  horsepower    weight  \\\n",
       "mpg           1.000000  -0.777618     -0.805127   -0.778427 -0.832244   \n",
       "cylinders    -0.777618   1.000000      0.950823    0.842983  0.897527   \n",
       "displacement -0.805127   0.950823      1.000000    0.897257  0.932994   \n",
       "horsepower   -0.778427   0.842983      0.897257    1.000000  0.864538   \n",
       "weight       -0.832244   0.897527      0.932994    0.864538  1.000000   \n",
       "acceleration  0.423329  -0.504683     -0.543800   -0.689196 -0.416839   \n",
       "model year    0.580541  -0.345647     -0.369855   -0.416361 -0.309120   \n",
       "origin        0.565209  -0.568932     -0.614535   -0.455171 -0.585005   \n",
       "\n",
       "              acceleration  model year    origin  \n",
       "mpg               0.423329    0.580541  0.565209  \n",
       "cylinders        -0.504683   -0.345647 -0.568932  \n",
       "displacement     -0.543800   -0.369855 -0.614535  \n",
       "horsepower       -0.689196   -0.416361 -0.455171  \n",
       "weight           -0.416839   -0.309120 -0.585005  \n",
       "acceleration      1.000000    0.290316  0.212746  \n",
       "model year        0.290316    1.000000  0.181528  \n",
       "origin            0.212746    0.181528  1.000000  "
      ]
     },
     "execution_count": 10,
     "metadata": {},
     "output_type": "execute_result"
    }
   ],
   "source": [
    "df.corr()"
   ]
  },
  {
   "cell_type": "code",
   "execution_count": 11,
   "id": "4b13f08a",
   "metadata": {},
   "outputs": [
    {
     "data": {
      "text/plain": [
       "<AxesSubplot:>"
      ]
     },
     "execution_count": 11,
     "metadata": {},
     "output_type": "execute_result"
    },
    {
     "data": {
      "image/png": "[encoded data removed]",
      "text/plain": [
       "<Figure size 432x288 with 2 Axes>"
      ]
     },
     "metadata": {
      "needs_background": "light"
     },
     "output_type": "display_data"
    }
   ],
   "source": [
    "sns.heatmap(df.corr(),center=True,annot=True)"
   ]
  },
  {
   "cell_type": "code",
   "execution_count": 12,
   "id": "2f1db8cd",
   "metadata": {},
   "outputs": [
    {
     "data": {
      "image/png": "[encoded data removed]",
      "text/plain": [
       "<Figure size 432x288 with 1 Axes>"
      ]
     },
     "metadata": {
      "needs_background": "light"
     },
     "output_type": "display_data"
    },
    {
     "data": {
      "image/png": "[encoded data removed]",
      "text/plain": [
       "<Figure size 432x288 with 1 Axes>"
      ]
     },
     "metadata": {
      "needs_background": "light"
     },
     "output_type": "display_data"
    },
    {
     "data": {
      "image/png": "[encoded data removed]",
      "text/plain": [
       "<Figure size 432x288 with 1 Axes>"
      ]
     },
     "metadata": {
      "needs_background": "light"
     },
     "output_type": "display_data"
    },
    {
     "data": {
      "image/png": "[encoded data removed]",
      "text/plain": [
       "<Figure size 432x288 with 1 Axes>"
      ]
     },
     "metadata": {
      "needs_background": "light"
     },
     "output_type": "display_data"
    },
    {
     "data": {
      "image/png": "[encoded data removed]",
      "text/plain": [
       "<Figure size 432x288 with 1 Axes>"
      ]
     },
     "metadata": {
      "needs_background": "light"
     },
     "output_type": "display_data"
    },
    {
     "data": {
      "image/png": "[encoded data removed]",
      "text/plain": [
       "<Figure size 432x288 with 1 Axes>"
      ]
     },
     "metadata": {
      "needs_background": "light"
     },
     "output_type": "display_data"
    },
    {
     "data": {
      "image/png": "[encoded data removed]",
      "text/plain": [
       "<Figure size 432x288 with 1 Axes>"
      ]
     },
     "metadata": {
      "needs_background": "light"
     },
     "output_type": "display_data"
    }
   ],
   "source": [
    "#sns.histplot(df['mpg'])\n",
    "for i in features:\n",
    "    sns.scatterplot(data=df, x=i, y='mpg')\n",
    "    plt.show()"
   ]
  },
  {
   "cell_type": "code",
   "execution_count": 13,
   "id": "682cdc4f",
   "metadata": {},
   "outputs": [
    {
     "name": "stdout",
     "output_type": "stream",
     "text": [
      "(392, 7) (313, 7) (79, 7)\n"
     ]
    }
   ],
   "source": [
    "from sklearn.model_selection import train_test_split\n",
    "X_train, X_test, y_train, y_test =train_test_split(X, y, test_size=0.2, random_state=0)\n",
    "print(X.shape,X_train.shape, X_test.shape)"
   ]
  },
  {
   "cell_type": "code",
   "execution_count": 14,
   "id": "4a7712f9",
   "metadata": {},
   "outputs": [
    {
     "name": "stdout",
     "output_type": "stream",
     "text": [
      "1.0 0.0\n",
      "1.0 0.0\n"
     ]
    }
   ],
   "source": [
    "from sklearn.preprocessing import MinMaxScaler\n",
    "scaler=MinMaxScaler()\n",
    "X_train=scaler.fit_transform(X_train)\n",
    "X_test = scaler.transform(X_test)\n",
    "print(X_train.max(),X_train.min())\n",
    "print(X_test.max(),X_test.min())"
   ]
  },
  {
   "cell_type": "markdown",
   "id": "dcb8e57a",
   "metadata": {},
   "source": [
    "## Linear Regression"
   ]
  },
  {
   "cell_type": "code",
   "execution_count": 15,
   "id": "26f9b173",
   "metadata": {},
   "outputs": [
    {
     "name": "stdout",
     "output_type": "stream",
     "text": [
      "25.855394160103923\n",
      "[('cylinders', -1.9517326984540488), ('displacement', 6.74775219351446), ('horsepower', -1.8893792977569548), ('weight', -23.9409820459996), ('acceleration', 2.3751685981590307), ('model year', 8.896076114491896), ('origin', 2.256586670778625)]\n",
      "0.7752689672981333 0.8076758326210308\n"
     ]
    }
   ],
   "source": [
    "from sklearn.linear_model import LinearRegression\n",
    "Reg=LinearRegression()\n",
    "Reg.fit(X_train,y_train)\n",
    "#----------------------------------------------------#\n",
    "Wo=Reg.intercept_\n",
    "Wn=Reg.coef_\n",
    "print(Wo)\n",
    "W=list(zip(features,Reg.coef_))\n",
    "print(W)\n",
    "#----------------------------------------------------#\n",
    "y_pred_train=Reg.predict(X_train)\n",
    "y_pred_test=Reg.predict(X_test)\n",
    "#----------------------------------------------------#\n",
    "from sklearn.metrics import r2_score\n",
    "r2_train=r2_score(y_pred_train,y_train)\n",
    "r2_test=r2_score(y_pred_test,y_test)\n",
    "#----------------------------------------------------#\n",
    "print(r2_train,r2_test)"
   ]
  },
  {
   "cell_type": "markdown",
   "id": "b6bbaf71",
   "metadata": {},
   "source": [
    "## Linear Regressiob with poly"
   ]
  },
  {
   "cell_type": "code",
   "execution_count": 16,
   "id": "08870866",
   "metadata": {},
   "outputs": [
    {
     "name": "stdout",
     "output_type": "stream",
     "text": [
      "43.975861349394805\n",
      "[('cylinders', -1.4438377979375208e-14), ('displacement', -1.5702326748655406), ('horsepower', -33.47176363961474), ('weight', -8.663297359867554), ('acceleration', -19.072150876510072), ('model year', -26.581953496948547), ('origin', -4.5332245406715455)]\n",
      "0.8940467032916688 0.8901788877237821\n"
     ]
    }
   ],
   "source": [
    "from sklearn.preprocessing import PolynomialFeatures\n",
    "Reg_poly=PolynomialFeatures(degree=2)\n",
    "X_poly = Reg_poly.fit_transform(X_train)\n",
    "Reg.fit(X_poly, y_train)\n",
    "#--------------------------------------------------------#\n",
    "Wo_poly=Reg.intercept_\n",
    "Wn_poly=Reg.coef_\n",
    "print(Wo_poly)\n",
    "W_poly=list(zip(features,Reg.coef_))\n",
    "print(W_poly)\n",
    "#--------------------------------------------------------#\n",
    "y2_pred_test=Reg.predict(Reg_poly.fit_transform(X_test))\n",
    "y2_pred_train=Reg.predict(X_poly)\n",
    "#---------------------------------------------------------#\n",
    "r2_train_poly=r2_score(y_train,y2_pred_train)\n",
    "r2_test_poly=r2_score(y_test,y2_pred_test)\n",
    "#---------------------------------------------------------#\n",
    "print(r2_train_poly,r2_test_poly)"
   ]
  },
  {
   "cell_type": "code",
   "execution_count": 32,
   "id": "836fc7d2",
   "metadata": {},
   "outputs": [
    {
     "data": {
      "text/plain": [
       "36"
      ]
     },
     "execution_count": 32,
     "metadata": {},
     "output_type": "execute_result"
    }
   ],
   "source": [
    "len(pd.DataFrame(Wn_poly))"
   ]
  },
  {
   "cell_type": "code",
   "execution_count": 17,
   "id": "f87356c2",
   "metadata": {},
   "outputs": [
    {
     "data": {
      "text/html": [
       "<div>\n",
       "<style scoped>\n",
       "    .dataframe tbody tr th:only-of-type {\n",
       "        vertical-align: middle;\n",
       "    }\n",
       "\n",
       "    .dataframe tbody tr th {\n",
       "        vertical-align: top;\n",
       "    }\n",
       "\n",
       "    .dataframe thead th {\n",
       "        text-align: right;\n",
       "    }\n",
       "</style>\n",
       "<table border=\"1\" class=\"dataframe\">\n",
       "  <thead>\n",
       "    <tr style=\"text-align: right;\">\n",
       "      <th></th>\n",
       "      <th>feature</th>\n",
       "      <th>coefficient</th>\n",
       "      <th>coefficient_poly</th>\n",
       "    </tr>\n",
       "  </thead>\n",
       "  <tbody>\n",
       "    <tr>\n",
       "      <th>0</th>\n",
       "      <td>cylinders</td>\n",
       "      <td>-1.951733</td>\n",
       "      <td>-1.443838e-14</td>\n",
       "    </tr>\n",
       "    <tr>\n",
       "      <th>1</th>\n",
       "      <td>displacement</td>\n",
       "      <td>6.747752</td>\n",
       "      <td>-1.570233e+00</td>\n",
       "    </tr>\n",
       "    <tr>\n",
       "      <th>2</th>\n",
       "      <td>horsepower</td>\n",
       "      <td>-1.889379</td>\n",
       "      <td>-3.347176e+01</td>\n",
       "    </tr>\n",
       "    <tr>\n",
       "      <th>3</th>\n",
       "      <td>weight</td>\n",
       "      <td>-23.940982</td>\n",
       "      <td>-8.663297e+00</td>\n",
       "    </tr>\n",
       "    <tr>\n",
       "      <th>4</th>\n",
       "      <td>acceleration</td>\n",
       "      <td>2.375169</td>\n",
       "      <td>-1.907215e+01</td>\n",
       "    </tr>\n",
       "    <tr>\n",
       "      <th>5</th>\n",
       "      <td>model year</td>\n",
       "      <td>8.896076</td>\n",
       "      <td>-2.658195e+01</td>\n",
       "    </tr>\n",
       "    <tr>\n",
       "      <th>6</th>\n",
       "      <td>origin</td>\n",
       "      <td>2.256587</td>\n",
       "      <td>-4.533225e+00</td>\n",
       "    </tr>\n",
       "  </tbody>\n",
       "</table>\n",
       "</div>"
      ],
      "text/plain": [
       "        feature  coefficient  coefficient_poly\n",
       "0     cylinders    -1.951733     -1.443838e-14\n",
       "1  displacement     6.747752     -1.570233e+00\n",
       "2    horsepower    -1.889379     -3.347176e+01\n",
       "3        weight   -23.940982     -8.663297e+00\n",
       "4  acceleration     2.375169     -1.907215e+01\n",
       "5    model year     8.896076     -2.658195e+01\n",
       "6        origin     2.256587     -4.533225e+00"
      ]
     },
     "execution_count": 17,
     "metadata": {},
     "output_type": "execute_result"
    }
   ],
   "source": [
    "a=pd.DataFrame(W,columns=['feature','coefficient'])\n",
    "b=pd.DataFrame(W_poly,columns=['feature','coefficient_poly'])\n",
    "a['coefficient_poly']=b['coefficient_poly']\n",
    "a"
   ]
  },
  {
   "cell_type": "markdown",
   "id": "a11e8a80",
   "metadata": {},
   "source": [
    "## Regressors function"
   ]
  },
  {
   "cell_type": "code",
   "execution_count": 18,
   "id": "efb09775",
   "metadata": {},
   "outputs": [],
   "source": [
    "def Regressor_1(X_train,y_train,X_test,y_test):\n",
    "    from sklearn.linear_model import LinearRegression\n",
    "    Reg=LinearRegression()\n",
    "    Reg.fit(X_train,y_train)\n",
    "    #----------------------------------------------------#\n",
    "    Wo=Reg.intercept_\n",
    "    Wn=Reg.coef_\n",
    "    #print(Wo)\n",
    "    W=list(zip(features,Reg.coef_))\n",
    "    df_cof1=pd.DataFrame(W,columns=['features','coefficient'])\n",
    "    #print(W)\n",
    "    #----------------------------------------------------#\n",
    "    y_pred_train=Reg.predict(X_train)\n",
    "    y_pred_test=Reg.predict(X_test)\n",
    "    #----------------------------------------------------#\n",
    "    from sklearn.metrics import r2_score\n",
    "    r2_train=r2_score(y_pred_train,y_train)\n",
    "    r2_test=r2_score(y_pred_test,y_test)\n",
    "    #----------------------------------------------------#\n",
    "    return(r2_train,r2_test,df_cof1)"
   ]
  },
  {
   "cell_type": "code",
   "execution_count": 19,
   "id": "4bf7b3e8",
   "metadata": {},
   "outputs": [
    {
     "data": {
      "text/plain": [
       "(0.7752689672981333,\n",
       " 0.8076758326210308,\n",
       "        features  coefficient\n",
       " 0     cylinders    -1.951733\n",
       " 1  displacement     6.747752\n",
       " 2    horsepower    -1.889379\n",
       " 3        weight   -23.940982\n",
       " 4  acceleration     2.375169\n",
       " 5    model year     8.896076\n",
       " 6        origin     2.256587)"
      ]
     },
     "execution_count": 19,
     "metadata": {},
     "output_type": "execute_result"
    }
   ],
   "source": [
    "Regressor_1(X_train,y_train,X_test,y_test)"
   ]
  },
  {
   "cell_type": "code",
   "execution_count": 20,
   "id": "b2b531cc",
   "metadata": {},
   "outputs": [],
   "source": [
    "def Regressor_2 (X_train,y_train,X_test,y_test,n):\n",
    "    #import libraries\n",
    "    from sklearn.linear_model import LinearRegression\n",
    "    from sklearn.metrics import r2_score\n",
    "    #linear model\n",
    "    Reg_lin=LinearRegression()\n",
    "    Reg_lin.fit(X_train,y_train)\n",
    "    y_pred=Reg_lin.predict(X_test)\n",
    "    R2_lin=r2_score(y_pred , y_test)\n",
    "    #poly\n",
    "    R2_test=[]\n",
    "    pol=(1,R2_lin)\n",
    "    Deg=[i for i in range(2,n)]\n",
    "    #\n",
    "    #print(pol)\n",
    "    for i in Deg:\n",
    "        poly_reg=PolynomialFeatures(degree=i)\n",
    "        X_poly=poly_reg.fit_transform(X_train)\n",
    "        #\n",
    "        lin_reg2=LinearRegression()\n",
    "        lin_reg2.fit(X_poly,y_train)\n",
    "        #\n",
    "        y_pred_test=lin_reg2.predict(poly_reg.fit_transform(X_test))\n",
    "        #\n",
    "        r2_test=r2_score(y_test,y_pred_test)\n",
    "        #\n",
    "        R2_test.append(r2_test)\n",
    "        if r2_test>= R2_lin:\n",
    "            pol=(i,r2_test)\n",
    "        else:\n",
    "            pol=pol\n",
    "            break\n",
    "        #\n",
    "        k=list(zip(Deg, R2_test))\n",
    "        #--------------------------------------------------------#\n",
    "    Wo_poly=Reg.intercept_\n",
    "    Wn_poly=Reg.coef_\n",
    "    #print(Wo_poly)\n",
    "    W_poly=list(zip(features,Reg.coef_))\n",
    "    #print(W_poly)\n",
    "    #--------------------------------------------------------#\n",
    "    df_cof1=pd.DataFrame(W_poly,columns=['features','coefficient_poly'])\n",
    "    return (pol,df_cof1)"
   ]
  },
  {
   "cell_type": "code",
   "execution_count": 21,
   "id": "e3cf5a90",
   "metadata": {},
   "outputs": [
    {
     "data": {
      "text/plain": [
       "((2, 0.8901788877237821),\n",
       "        features  coefficient_poly\n",
       " 0     cylinders     -1.443838e-14\n",
       " 1  displacement     -1.570233e+00\n",
       " 2    horsepower     -3.347176e+01\n",
       " 3        weight     -8.663297e+00\n",
       " 4  acceleration     -1.907215e+01\n",
       " 5    model year     -2.658195e+01\n",
       " 6        origin     -4.533225e+00)"
      ]
     },
     "execution_count": 21,
     "metadata": {},
     "output_type": "execute_result"
    }
   ],
   "source": [
    "Regressor_2 (X_train,y_train,X_test,y_test,5)"
   ]
  },
  {
   "cell_type": "code",
   "execution_count": 22,
   "id": "0371db9b",
   "metadata": {},
   "outputs": [],
   "source": [
    "def Regressor_3 (X_train,y_train,X_test,y_test,n):\n",
    "    Ridge_M=[]\n",
    "    Lasso_M=[]\n",
    "    a= list(np.arange(0.001,20,0.1))\n",
    "    for alpha in a: #alpha range\n",
    "        poly_reg=PolynomialFeatures(degree=n)\n",
    "        X_poly=poly_reg.fit_transform(X_train)\n",
    "        #------------------------------------------#\n",
    "        from sklearn.linear_model import Ridge, Lasso\n",
    "        #------------------------------------------#\n",
    "        ridge= Ridge(alpha=alpha, normalize=True)\n",
    "        ridge.fit(poly_reg.fit_transform(X_train),y_train)\n",
    "        y_pred=ridge.predict(poly_reg.fit_transform(X_test))\n",
    "        R2_ridge=r2_score(y_pred,y_test)\n",
    "        Ridge_M.append(R2_ridge)\n",
    "        #------------------------------------------#\n",
    "        lasso= Lasso(alpha=alpha, normalize=True)\n",
    "        lasso.fit(poly_reg.fit_transform(X_train),y_train)\n",
    "        y_pred=lasso.predict(poly_reg.fit_transform(X_test))\n",
    "        R2_lasso=r2_score(y_pred,y_test)\n",
    "        Lasso_M.append(R2_lasso)\n",
    "        #------------------------------------------#\n",
    "    A_ridge=list(zip(a,Ridge_M))\n",
    "    A_lasso=list(zip(a,Lasso_M))\n",
    "    R=max(A_ridge, key=lambda x:x[1])\n",
    "    L=max(A_lasso, key=lambda x:x[1])\n",
    "        #------------------------------------------#\n",
    "    return(R,L)"
   ]
  },
  {
   "cell_type": "code",
   "execution_count": 23,
   "id": "16bfdd83",
   "metadata": {},
   "outputs": [
    {
     "name": "stderr",
     "output_type": "stream",
     "text": [
      "C:\\Users\\dell\\anaconda3\\lib\\site-packages\\sklearn\\linear_model\\_coordinate_descent.py:530: ConvergenceWarning: Objective did not converge. You might want to increase the number of iterations. Duality gap: 5.255540965526052, tolerance: 1.890665335463259\n",
      "  model = cd_fast.enet_coordinate_descent(\n"
     ]
    },
    {
     "data": {
      "text/plain": [
       "((0.101, 0.8795963609077041), (0.001, 0.8868039159196793))"
      ]
     },
     "execution_count": 23,
     "metadata": {},
     "output_type": "execute_result"
    }
   ],
   "source": [
    "Regressor_3 (X_train,y_train,X_test,y_test,5)"
   ]
  },
  {
   "cell_type": "code",
   "execution_count": 24,
   "id": "b9964c09",
   "metadata": {},
   "outputs": [],
   "source": [
    "def Regressor_3 (X_train,y_train,X_test,y_test,n):\n",
    "    Ridge_M=[]\n",
    "    a= list(np.arange(0.001,20,0.1))\n",
    "    for alpha in a: #alpha range\n",
    "        poly_reg=PolynomialFeatures(degree=n)\n",
    "        X_poly=poly_reg.fit_transform(X_train)\n",
    "        #------------------------------------------#\n",
    "        from sklearn.linear_model import Ridge, Lasso\n",
    "        #------------------------------------------#\n",
    "        ridge= Ridge(alpha=alpha, normalize=True)\n",
    "        ridge.fit(poly_reg.fit_transform(X_train),y_train)\n",
    "        y_pred=ridge.predict(poly_reg.fit_transform(X_test))\n",
    "        R2_ridge=r2_score(y_pred,y_test)\n",
    "        Ridge_M.append(R2_ridge)\n",
    "        #------------------------------------------#\n",
    "    A_ridge=list(zip(a,Ridge_M))\n",
    "    R=max(A_ridge, key=lambda x:x[1])\n",
    "    ridge= Ridge(alpha=R[0], normalize=True)\n",
    "    ridge.fit(poly_reg.fit_transform(X_train),y_train)\n",
    "    W_ridge=list(zip(features,ridge.coef_))\n",
    "    df_cof3=pd.DataFrame(W_ridge,columns=['features','coefficient_ridge'])\n",
    "        #------------------------------------------#\n",
    "    return(R,df_cof3)"
   ]
  },
  {
   "cell_type": "code",
   "execution_count": 25,
   "id": "e5ee1d50",
   "metadata": {},
   "outputs": [
    {
     "data": {
      "text/plain": [
       "((0.101, 0.877776991807988),\n",
       "        features  coefficient_ridge\n",
       " 0     cylinders           0.000000\n",
       " 1  displacement          -2.096027\n",
       " 2    horsepower          -3.263433\n",
       " 3        weight          -2.584869\n",
       " 4  acceleration          -4.592522\n",
       " 5    model year          -1.040575\n",
       " 6        origin           2.616731)"
      ]
     },
     "execution_count": 25,
     "metadata": {},
     "output_type": "execute_result"
    }
   ],
   "source": [
    "Regressor_3 (X_train,y_train,X_test,y_test,3)"
   ]
  },
  {
   "cell_type": "code",
   "execution_count": 26,
   "id": "900bef5d",
   "metadata": {},
   "outputs": [],
   "source": [
    "def Regressor_4 (X_train,y_train,X_test,y_test,n):\n",
    "    Lasso_M=[]\n",
    "    a= list(np.arange(0.001,20,0.1))\n",
    "    for alpha in a: #alpha range\n",
    "        poly_reg=PolynomialFeatures(degree=n)\n",
    "        X_poly=poly_reg.fit_transform(X_train)\n",
    "        #------------------------------------------#\n",
    "        from sklearn.linear_model import Ridge, Lasso\n",
    "        #------------------------------------------#\n",
    "        lasso= Lasso(alpha=alpha, normalize=True)\n",
    "        lasso.fit(poly_reg.fit_transform(X_train),y_train)\n",
    "        y_pred=lasso.predict(poly_reg.fit_transform(X_test))\n",
    "        R2_lasso=r2_score(y_pred,y_test)\n",
    "        Lasso_M.append(R2_lasso)\n",
    "        #------------------------------------------#\n",
    "    A_lasso=list(zip(a,Lasso_M))\n",
    "    L=max(A_lasso, key=lambda x:x[1])\n",
    "    lasso= Lasso(alpha=L[0], normalize=True)\n",
    "    lasso.fit(poly_reg.fit_transform(X_train),y_train)\n",
    "    W_lasso=list(zip(features,lasso.coef_))\n",
    "    df_cof4=pd.DataFrame(W_lasso,columns=['features','coefficient_lasso'])\n",
    "        #------------------------------------------#\n",
    "    return(L,df_cof4)"
   ]
  },
  {
   "cell_type": "code",
   "execution_count": 27,
   "id": "f3791754",
   "metadata": {},
   "outputs": [
    {
     "name": "stderr",
     "output_type": "stream",
     "text": [
      "C:\\Users\\dell\\anaconda3\\lib\\site-packages\\sklearn\\linear_model\\_coordinate_descent.py:530: ConvergenceWarning: Objective did not converge. You might want to increase the number of iterations. Duality gap: 7.161744739115875, tolerance: 1.890665335463259\n",
      "  model = cd_fast.enet_coordinate_descent(\n",
      "C:\\Users\\dell\\anaconda3\\lib\\site-packages\\sklearn\\linear_model\\_coordinate_descent.py:530: ConvergenceWarning: Objective did not converge. You might want to increase the number of iterations. Duality gap: 7.161744739115875, tolerance: 1.890665335463259\n",
      "  model = cd_fast.enet_coordinate_descent(\n"
     ]
    },
    {
     "data": {
      "text/plain": [
       "((0.001, 0.8778028218283971),\n",
       "        features  coefficient_lasso\n",
       " 0     cylinders           0.000000\n",
       " 1  displacement          -3.753157\n",
       " 2    horsepower          -3.724148\n",
       " 3        weight          -0.000000\n",
       " 4  acceleration         -18.506547\n",
       " 5    model year          -0.000000\n",
       " 6        origin           0.773823)"
      ]
     },
     "execution_count": 27,
     "metadata": {},
     "output_type": "execute_result"
    }
   ],
   "source": [
    "Regressor_4 (X_train,y_train,X_test,y_test,3)"
   ]
  },
  {
   "cell_type": "code",
   "execution_count": 28,
   "id": "7d76981d",
   "metadata": {},
   "outputs": [],
   "source": [
    "def Regressors(X_train,y_train,X_test,y_test,features,n):\n",
    "    S1=Regressor_1(X_train,y_train,X_test,y_test)\n",
    "    S2=Regressor_2 (X_train,y_train,X_test,y_test,n)\n",
    "    S3=Regressor_3 (X_train,y_train,X_test,y_test,n)\n",
    "    S4=Regressor_4 (X_train,y_train,X_test,y_test,n)\n",
    "    \n",
    "    Reg_M=['linear','liner with poly degree','Ridge','Lasso']\n",
    "    S=[S1,S2,S3,S4]\n",
    "    S_score=[S1[1],S2[0][1],S3[0][1],S4[0][1]]\n",
    "    j=S_score.index(max(S_score))\n",
    "    z=list(zip(Reg_M,S_score))\n",
    "    print(z)\n",
    "    return(Reg_M[j],S[j])"
   ]
  },
  {
   "cell_type": "code",
   "execution_count": 29,
   "id": "0d9e0393",
   "metadata": {},
   "outputs": [
    {
     "name": "stderr",
     "output_type": "stream",
     "text": [
      "C:\\Users\\dell\\anaconda3\\lib\\site-packages\\sklearn\\linear_model\\_coordinate_descent.py:530: ConvergenceWarning: Objective did not converge. You might want to increase the number of iterations. Duality gap: 7.161744739115875, tolerance: 1.890665335463259\n",
      "  model = cd_fast.enet_coordinate_descent(\n"
     ]
    },
    {
     "name": "stdout",
     "output_type": "stream",
     "text": [
      "[('linear', 0.8076758326210308), ('liner with poly degree', 0.8901788877237821), ('Ridge', 0.877776991807988), ('Lasso', 0.8778028218283971)]\n"
     ]
    },
    {
     "name": "stderr",
     "output_type": "stream",
     "text": [
      "C:\\Users\\dell\\anaconda3\\lib\\site-packages\\sklearn\\linear_model\\_coordinate_descent.py:530: ConvergenceWarning: Objective did not converge. You might want to increase the number of iterations. Duality gap: 7.161744739115875, tolerance: 1.890665335463259\n",
      "  model = cd_fast.enet_coordinate_descent(\n"
     ]
    },
    {
     "data": {
      "text/plain": [
       "('liner with poly degree',\n",
       " ((2, 0.8901788877237821),\n",
       "         features  coefficient_poly\n",
       "  0     cylinders     -1.443838e-14\n",
       "  1  displacement     -1.570233e+00\n",
       "  2    horsepower     -3.347176e+01\n",
       "  3        weight     -8.663297e+00\n",
       "  4  acceleration     -1.907215e+01\n",
       "  5    model year     -2.658195e+01\n",
       "  6        origin     -4.533225e+00))"
      ]
     },
     "execution_count": 29,
     "metadata": {},
     "output_type": "execute_result"
    }
   ],
   "source": [
    "Regressors(X_train,y_train,X_test,y_test,features,3)"
   ]
  }
 ],
 "metadata": {
  "kernelspec": {
   "display_name": "Python 3",
   "language": "python",
   "name": "python3"
  },
  "language_info": {
   "codemirror_mode": {
    "name": "ipython",
    "version": 3
   },
   "file_extension": ".py",
   "mimetype": "text/x-python",
   "name": "python",
   "nbconvert_exporter": "python",
   "pygments_lexer": "ipython3",
   "version": "3.8.8"
  }
 },
 "nbformat": 4,
 "nbformat_minor": 5
}
